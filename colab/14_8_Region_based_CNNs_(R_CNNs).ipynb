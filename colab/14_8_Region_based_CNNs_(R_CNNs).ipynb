{
  "nbformat": 4,
  "nbformat_minor": 0,
  "metadata": {
    "colab": {
      "provenance": [],
      "include_colab_link": true
    },
    "kernelspec": {
      "name": "python3",
      "display_name": "Python 3"
    },
    "language_info": {
      "name": "python"
    }
  },
  "cells": [
    {
      "cell_type": "markdown",
      "metadata": {
        "id": "view-in-github",
        "colab_type": "text"
      },
      "source": [
        "<a href=\"https://colab.research.google.com/github/bkim9/Resume/blob/main/14_8_Region_based_CNNs_(R_CNNs).ipynb\" target=\"_parent\"><img src=\"https://colab.research.google.com/assets/colab-badge.svg\" alt=\"Open In Colab\"/></a>"
      ]
    },
    {
      "cell_type": "code",
      "execution_count": null,
      "metadata": {
        "colab": {
          "base_uri": "https://localhost:8080/"
        },
        "id": "0GIJamjdFOkH",
        "outputId": "06aa3746-2700-43d4-ef72-27c1447dcfd6"
      },
      "outputs": [
        {
          "output_type": "execute_result",
          "data": {
            "text/plain": [
              "tensor([[[[ 0.,  1.,  2.,  3.],\n",
              "          [ 4.,  5.,  6.,  7.],\n",
              "          [ 8.,  9., 10., 11.],\n",
              "          [12., 13., 14., 15.]]]])"
            ]
          },
          "metadata": {},
          "execution_count": 1
        }
      ],
      "source": [
        "import torch\n",
        "import torchvision\n",
        "\n",
        "X = torch.arange(16.).reshape(1, 1, 4, 4)\n",
        "X"
      ]
    },
    {
      "cell_type": "code",
      "source": [
        "rois = torch.Tensor([[0, 0, 0, 20, 20], [0, 0, 10, 30, 30]])"
      ],
      "metadata": {
        "id": "8faMP4ryPa1u"
      },
      "execution_count": null,
      "outputs": []
    },
    {
      "cell_type": "code",
      "source": [
        "torchvision.ops.roi_pool(X, rois, output_size=(2, 2), spatial_scale=0.1)"
      ],
      "metadata": {
        "id": "XpzuEpCUPfPh",
        "outputId": "41cc6764-6799-4dec-8585-da00e0849af7",
        "colab": {
          "base_uri": "https://localhost:8080/"
        }
      },
      "execution_count": null,
      "outputs": [
        {
          "output_type": "execute_result",
          "data": {
            "text/plain": [
              "tensor([[[[ 5.,  6.],\n",
              "          [ 9., 10.]]],\n",
              "\n",
              "\n",
              "        [[[ 9., 11.],\n",
              "          [13., 15.]]]])"
            ]
          },
          "metadata": {},
          "execution_count": 3
        }
      ]
    }
  ]
}